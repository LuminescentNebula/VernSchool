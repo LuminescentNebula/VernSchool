{
 "cells": [
  {
   "cell_type": "markdown",
   "id": "1359677a",
   "metadata": {},
   "source": [
    "<h1>CSS (Не контер страйк сурс)</h1>"
   ]
  },
  {
   "cell_type": "markdown",
   "id": "aa7396b2",
   "metadata": {},
   "source": [
    "<h1>CSS (Не контер страйк сурс)</h1>"
   ]
  },
  {
   "cell_type": "markdown",
   "id": "e29bf272",
   "metadata": {},
   "source": [
    "<p>CSS - Cascading Style Sheets - Каскадные таблицы стилей</p>"
   ]
  },
  {
   "cell_type": "code",
   "execution_count": null,
   "id": "d9ae1e7f",
   "metadata": {},
   "outputs": [],
   "source": []
  }
 ],
 "metadata": {
  "kernelspec": {
   "display_name": "Python 3 (ipykernel)",
   "language": "python",
   "name": "python3"
  },
  "language_info": {
   "codemirror_mode": {
    "name": "ipython",
    "version": 3
   },
   "file_extension": ".py",
   "mimetype": "text/x-python",
   "name": "python",
   "nbconvert_exporter": "python",
   "pygments_lexer": "ipython3",
   "version": "3.10.2"
  }
 },
 "nbformat": 4,
 "nbformat_minor": 5
}
