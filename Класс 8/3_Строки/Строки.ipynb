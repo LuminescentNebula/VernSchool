{
 "cells": [
  {
   "cell_type": "markdown",
   "id": "b92e5a8a",
   "metadata": {},
   "source": [
    "# Строки"
   ]
  },
  {
   "cell_type": "markdown",
   "id": "13f81879",
   "metadata": {},
   "source": [
    "## Операции"
   ]
  },
  {
   "cell_type": "markdown",
   "id": "4f0d65b6",
   "metadata": {},
   "source": [
    "Строка - последовательность символов."
   ]
  },
  {
   "cell_type": "markdown",
   "id": "b810b389",
   "metadata": {},
   "source": [
    "Также как и с другими типами данных строку можно записывать в переменную: "
   ]
  },
  {
   "cell_type": "code",
   "execution_count": 2,
   "id": "f777e043",
   "metadata": {},
   "outputs": [],
   "source": [
    "s = \"Привет!\""
   ]
  },
  {
   "cell_type": "markdown",
   "id": "318fb757",
   "metadata": {},
   "source": [
    "Выводить на экран:"
   ]
  },
  {
   "cell_type": "code",
   "execution_count": 3,
   "id": "8062d82b",
   "metadata": {},
   "outputs": [
    {
     "name": "stdout",
     "output_type": "stream",
     "text": [
      "Привет!\n"
     ]
    }
   ],
   "source": [
    "print(s)"
   ]
  },
  {
   "cell_type": "markdown",
   "id": "e2ea415e",
   "metadata": {},
   "source": [
    "Из чуть более неочевидного, складывать:"
   ]
  },
  {
   "cell_type": "code",
   "execution_count": 5,
   "id": "2971b2ec",
   "metadata": {},
   "outputs": [
    {
     "name": "stdout",
     "output_type": "stream",
     "text": [
      "Привет, Вася!\n"
     ]
    }
   ],
   "source": [
    "s1 = \"Привет\"\n",
    "s2 = \"Вася\"\n",
    "s = s1 + \", \" + s2 + \"!\"\n",
    "print(s)"
   ]
  },
  {
   "cell_type": "markdown",
   "id": "398bf2d4",
   "metadata": {},
   "source": [
    "И умножать:"
   ]
  },
  {
   "cell_type": "code",
   "execution_count": 6,
   "id": "3123a2b6",
   "metadata": {},
   "outputs": [
    {
     "name": "stdout",
     "output_type": "stream",
     "text": [
      "КуКуКуКуКу\n"
     ]
    }
   ],
   "source": [
    "s=\"Ку\"\n",
    "s5=s*5\n",
    "print(s5)"
   ]
  },
  {
   "cell_type": "markdown",
   "id": "d56da1fd",
   "metadata": {},
   "source": [
    "Делить и вычитать строки нельзя."
   ]
  },
  {
   "cell_type": "markdown",
   "id": "e078ee36",
   "metadata": {},
   "source": [
    "## Обращение"
   ]
  },
  {
   "cell_type": "markdown",
   "id": "a1242288",
   "metadata": {},
   "source": [
    "Строку можно определить не просто как последовательность, а как неизменяемый массив. Также как в массиве можно обращаться по индексу к конкретному элементу:"
   ]
  },
  {
   "cell_type": "code",
   "execution_count": 13,
   "id": "fd8dd453",
   "metadata": {},
   "outputs": [
    {
     "name": "stdout",
     "output_type": "stream",
     "text": [
      "р\n"
     ]
    }
   ],
   "source": [
    "s=\"Привет!\"\n",
    "print(s[1])"
   ]
  },
  {
   "cell_type": "markdown",
   "id": "735082fd",
   "metadata": {},
   "source": [
    "В отличии от массивов нельзя изменить конкретный символ в строке:"
   ]
  },
  {
   "cell_type": "code",
   "execution_count": 14,
   "id": "7e327187",
   "metadata": {},
   "outputs": [
    {
     "ename": "TypeError",
     "evalue": "'str' object does not support item assignment",
     "output_type": "error",
     "traceback": [
      "\u001b[1;31m---------------------------------------------------------------------------\u001b[0m",
      "\u001b[1;31mTypeError\u001b[0m                                 Traceback (most recent call last)",
      "Cell \u001b[1;32mIn[14], line 1\u001b[0m\n\u001b[1;32m----> 1\u001b[0m \u001b[43ms\u001b[49m\u001b[43m[\u001b[49m\u001b[38;5;241;43m2\u001b[39;49m\u001b[43m]\u001b[49m\u001b[38;5;241m=\u001b[39m\u001b[38;5;124m\"\u001b[39m\u001b[38;5;124mе\u001b[39m\u001b[38;5;124m\"\u001b[39m\n",
      "\u001b[1;31mTypeError\u001b[0m: 'str' object does not support item assignment"
     ]
    }
   ],
   "source": [
    "s[2]=\"е\""
   ]
  },
  {
   "cell_type": "markdown",
   "id": "ac77b5f1",
   "metadata": {},
   "source": [
    "**Строка - это неизменяемый объект**"
   ]
  },
  {
   "cell_type": "markdown",
   "id": "ca9eb90a",
   "metadata": {},
   "source": [
    "Но, используя операции можно составить новую строку из уже существующей"
   ]
  },
  {
   "cell_type": "code",
   "execution_count": 17,
   "id": "4ed34807",
   "metadata": {},
   "outputs": [
    {
     "name": "stdout",
     "output_type": "stream",
     "text": [
      "Привет!\n",
      "Привет! Всем!\n",
      "Составлено из частей предыдущей строки: Петр\n"
     ]
    }
   ],
   "source": [
    "s = \"Привет!\"\n",
    "print(s)\n",
    "s1 = s + \" Всем!\"\n",
    "print(s1)\n",
    "s2 = s[0]+s[4]+s[5]+s[1]\n",
    "print(\"Составлено из частей предыдущей строки:\",s2)"
   ]
  },
  {
   "cell_type": "markdown",
   "id": "e1482cb6",
   "metadata": {},
   "source": [
    "## Продвинутые способы обращения"
   ]
  },
  {
   "cell_type": "markdown",
   "id": "ed380fe2",
   "metadata": {},
   "source": [
    "На примере строк познакомимся с более продвинутыми способами обращения к элементам, но все эти способы также применимы к обычным массивам."
   ]
  },
  {
   "cell_type": "markdown",
   "id": "825c4be7",
   "metadata": {},
   "source": [
    "### Отрицательные индексы"
   ]
  },
  {
   "cell_type": "markdown",
   "id": "ef690317",
   "metadata": {},
   "source": [
    "Если в качестве индекса передать отрицательное число, то будет возвращен элемент из конца строки:"
   ]
  },
  {
   "cell_type": "code",
   "execution_count": 11,
   "id": "6776785a",
   "metadata": {},
   "outputs": [
    {
     "name": "stdout",
     "output_type": "stream",
     "text": [
      "!\n"
     ]
    }
   ],
   "source": [
    "print(s[-1])"
   ]
  },
  {
   "cell_type": "markdown",
   "id": "a3980587",
   "metadata": {},
   "source": [
    "Чтобы получить последний элемент можно обратиться к нему по индексу -1 или определить длину и вычесть единицу (`len(s)-1`). Для определения длины строки используется та же функция, что и для массивов."
   ]
  },
  {
   "cell_type": "code",
   "execution_count": 12,
   "id": "4d10d38b",
   "metadata": {},
   "outputs": [
    {
     "name": "stdout",
     "output_type": "stream",
     "text": [
      "!\n",
      "!\n"
     ]
    }
   ],
   "source": [
    "print(s[-1])\n",
    "print(s[len(s)-1])"
   ]
  },
  {
   "cell_type": "markdown",
   "id": "8175ae13",
   "metadata": {},
   "source": [
    "Последний элемент имеет индекс -1, предпоследний -2 и так далее."
   ]
  },
  {
   "cell_type": "markdown",
   "id": "5caf5326",
   "metadata": {},
   "source": [
    "### Срезы"
   ]
  },
  {
   "cell_type": "markdown",
   "id": "a9246496",
   "metadata": {},
   "source": [
    "Указав в квадратных скобках (оператор образения) диапазон через двоеточие можно получить соответсвующую часть строки. Также как и в `range()` первый индекс включительно, а последний не включительно."
   ]
  },
  {
   "cell_type": "code",
   "execution_count": 18,
   "id": "dd43d7b0",
   "metadata": {},
   "outputs": [
    {
     "name": "stdout",
     "output_type": "stream",
     "text": [
      "34567\n"
     ]
    }
   ],
   "source": [
    "s = \"0123456789\"\n",
    "print(s[3:8])"
   ]
  },
  {
   "cell_type": "markdown",
   "id": "add7ee77",
   "metadata": {},
   "source": [
    "При использования среза можно не указывать, что вы начинаете с начала строки (первый индекс - 0):"
   ]
  },
  {
   "cell_type": "code",
   "execution_count": 19,
   "id": "78694253",
   "metadata": {},
   "outputs": [
    {
     "name": "stdout",
     "output_type": "stream",
     "text": [
      "012\n",
      "012\n"
     ]
    }
   ],
   "source": [
    "print(s[:3])\n",
    "print(s[0:3])"
   ]
  },
  {
   "cell_type": "markdown",
   "id": "10ef4f08",
   "metadata": {},
   "source": [
    "И можно не указывать, что вы идете до конца строки (до последнего индекса):"
   ]
  },
  {
   "cell_type": "code",
   "execution_count": 22,
   "id": "375468f2",
   "metadata": {},
   "outputs": [
    {
     "name": "stdout",
     "output_type": "stream",
     "text": [
      "789\n",
      "789\n"
     ]
    }
   ],
   "source": [
    "print(s[7:])\n",
    "print(s[7:len(s)])"
   ]
  },
  {
   "cell_type": "markdown",
   "id": "62181c9f",
   "metadata": {},
   "source": [
    "Если вы идете сначала и до конца, то индексы можно не указывать, но эта запись идентичная просто обращению к переменной:"
   ]
  },
  {
   "cell_type": "code",
   "execution_count": 31,
   "id": "c2d04c1d",
   "metadata": {},
   "outputs": [
    {
     "name": "stdout",
     "output_type": "stream",
     "text": [
      "0123456789\n",
      "0123456789\n"
     ]
    }
   ],
   "source": [
    "print(s[:])\n",
    "print(s)"
   ]
  },
  {
   "cell_type": "markdown",
   "id": "7cba34cf",
   "metadata": {},
   "source": [
    "Помимо начального и конечного индекса в срезе можно указать шаг, также как и в `range()`. Это будет третье число через ещё одно двоеточие:"
   ]
  },
  {
   "cell_type": "code",
   "execution_count": 33,
   "id": "022dab4a",
   "metadata": {},
   "outputs": [
    {
     "name": "stdout",
     "output_type": "stream",
     "text": [
      "1234\n",
      "13\n"
     ]
    }
   ],
   "source": [
    "print(s[1:5:1])\n",
    "print(s[1:5:2])"
   ]
  },
  {
   "cell_type": "markdown",
   "id": "b290483a",
   "metadata": {},
   "source": [
    "Также же последовательность можно развернуть указав в шаге -1:"
   ]
  },
  {
   "cell_type": "code",
   "execution_count": 26,
   "id": "ee02ebf2",
   "metadata": {},
   "outputs": [
    {
     "name": "stdout",
     "output_type": "stream",
     "text": [
      "0123456789\n",
      "9876543210\n"
     ]
    }
   ],
   "source": [
    "print(s)\n",
    "print(s[::-1])"
   ]
  },
  {
   "cell_type": "markdown",
   "id": "c5383e5e",
   "metadata": {},
   "source": [
    "Либо указав любой другой нужный вам шаг:\n"
   ]
  },
  {
   "cell_type": "code",
   "execution_count": 27,
   "id": "a05905c8",
   "metadata": {},
   "outputs": [
    {
     "name": "stdout",
     "output_type": "stream",
     "text": [
      "02468\n"
     ]
    }
   ],
   "source": [
    "print(s[::2])"
   ]
  },
  {
   "cell_type": "markdown",
   "id": "68a74b76",
   "metadata": {},
   "source": [
    "В случае отрицательного шага нужно также развернуть индексы и учитывать, что первый включительно, а последний не включительно:"
   ]
  },
  {
   "cell_type": "code",
   "execution_count": 29,
   "id": "eaae2f49",
   "metadata": {},
   "outputs": [
    {
     "name": "stdout",
     "output_type": "stream",
     "text": [
      "34567\n",
      "76543\n"
     ]
    }
   ],
   "source": [
    "print(s[3:8:1])\n",
    "print(s[7:2:-1])"
   ]
  },
  {
   "cell_type": "markdown",
   "id": "cc83d731",
   "metadata": {},
   "source": [
    "В срезах также можно использовать отрицательные индексы, вот несколько способов записи одного и того же среза, начиная с самого короткого и заканчивая самым полным."
   ]
  },
  {
   "cell_type": "code",
   "execution_count": 35,
   "id": "7644675b",
   "metadata": {},
   "outputs": [
    {
     "name": "stdout",
     "output_type": "stream",
     "text": [
      "01234567\n",
      "01234567\n",
      "01234567\n"
     ]
    }
   ],
   "source": [
    "print(s[:-2])\n",
    "print(s[:len(s)-2])\n",
    "print(s[0:len(s)-2:1])"
   ]
  },
  {
   "cell_type": "markdown",
   "id": "cf5d36db",
   "metadata": {},
   "source": [
    "### Операции со срезами"
   ]
  },
  {
   "cell_type": "markdown",
   "id": "0efd3722",
   "metadata": {},
   "source": [
    "#### Удаление:"
   ]
  },
  {
   "cell_type": "code",
   "execution_count": 37,
   "id": "abd94c5c",
   "metadata": {},
   "outputs": [
    {
     "name": "stdout",
     "output_type": "stream",
     "text": [
      "0129\n"
     ]
    }
   ],
   "source": [
    "s = \"0123456789\"\n",
    "s = s[:3] + s[9:]\n",
    "print(s)"
   ]
  },
  {
   "cell_type": "markdown",
   "id": "03142c54",
   "metadata": {},
   "source": [
    "Для удаления определенного промежутка в строке нужно взять срез промежутка до и промежутка после и сложить их."
   ]
  },
  {
   "cell_type": "markdown",
   "id": "20ccb5e6",
   "metadata": {},
   "source": [
    "#### Вставка: "
   ]
  },
  {
   "cell_type": "code",
   "execution_count": 40,
   "id": "ed8e6f1a",
   "metadata": {},
   "outputs": [
    {
     "name": "stdout",
     "output_type": "stream",
     "text": [
      "012___3456789\n"
     ]
    }
   ],
   "source": [
    "s = \"0123456789\"\n",
    "s = s[:3] +\"___\"+ s[3:]\n",
    "print(s)"
   ]
  }
 ],
 "metadata": {
  "kernelspec": {
   "display_name": "Python 3 (ipykernel)",
   "language": "python",
   "name": "python3"
  },
  "language_info": {
   "codemirror_mode": {
    "name": "ipython",
    "version": 3
   },
   "file_extension": ".py",
   "mimetype": "text/x-python",
   "name": "python",
   "nbconvert_exporter": "python",
   "pygments_lexer": "ipython3",
   "version": "3.10.2"
  }
 },
 "nbformat": 4,
 "nbformat_minor": 5
}
