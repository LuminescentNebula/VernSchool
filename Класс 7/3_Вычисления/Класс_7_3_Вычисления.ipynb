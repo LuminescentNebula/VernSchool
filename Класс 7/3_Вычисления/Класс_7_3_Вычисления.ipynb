{
 "cells": [
  {
   "cell_type": "markdown",
   "id": "7114ad15",
   "metadata": {},
   "source": [
    "# Вычисления"
   ]
  },
  {
   "cell_type": "markdown",
   "id": "c95bf2b7",
   "metadata": {},
   "source": [
    "## Операторы"
   ]
  },
  {
   "cell_type": "markdown",
   "id": "502dff83",
   "metadata": {},
   "source": [
    "+, -, *, /, **, //, %"
   ]
  },
  {
   "cell_type": "code",
   "execution_count": 2,
   "id": "6ef6444c",
   "metadata": {},
   "outputs": [
    {
     "name": "stdout",
     "output_type": "stream",
     "text": [
      "7\n"
     ]
    }
   ],
   "source": [
    "print(3+4) #Сложение"
   ]
  },
  {
   "cell_type": "code",
   "execution_count": 3,
   "id": "bd5b2d73",
   "metadata": {},
   "outputs": [
    {
     "name": "stdout",
     "output_type": "stream",
     "text": [
      "2\n"
     ]
    }
   ],
   "source": [
    "print(5-3) #Вычитание"
   ]
  },
  {
   "cell_type": "code",
   "execution_count": 4,
   "id": "bc0b721b",
   "metadata": {},
   "outputs": [
    {
     "name": "stdout",
     "output_type": "stream",
     "text": [
      "49\n"
     ]
    }
   ],
   "source": [
    "print(7*7) #Умножение"
   ]
  },
  {
   "cell_type": "code",
   "execution_count": 5,
   "id": "b80ef47d",
   "metadata": {},
   "outputs": [
    {
     "name": "stdout",
     "output_type": "stream",
     "text": [
      "1.5\n"
     ]
    }
   ],
   "source": [
    "print(3/2) #Деление"
   ]
  },
  {
   "cell_type": "code",
   "execution_count": 6,
   "id": "37fa9d4e",
   "metadata": {},
   "outputs": [
    {
     "name": "stdout",
     "output_type": "stream",
     "text": [
      "8\n"
     ]
    }
   ],
   "source": [
    "print(2**3) #Возведение в степень"
   ]
  },
  {
   "cell_type": "code",
   "execution_count": 10,
   "id": "91c93508",
   "metadata": {},
   "outputs": [
    {
     "name": "stdout",
     "output_type": "stream",
     "text": [
      "2\n"
     ]
    }
   ],
   "source": [
    "print(5//2) #Деление без остатка"
   ]
  },
  {
   "cell_type": "code",
   "execution_count": 12,
   "id": "9cda35e9",
   "metadata": {},
   "outputs": [
    {
     "name": "stdout",
     "output_type": "stream",
     "text": [
      "1\n"
     ]
    }
   ],
   "source": [
    "print(5%2) #Остаток от деления"
   ]
  },
  {
   "cell_type": "markdown",
   "id": "e1bac425",
   "metadata": {},
   "source": [
    "Можно производить операции между целыми и вещеественными числами:  \n",
    "`int + int = ?`  \n",
    "`float + float = ?`  \n",
    "`int + float = ?`  "
   ]
  },
  {
   "cell_type": "markdown",
   "id": "a47ab93e",
   "metadata": {},
   "source": [
    "## Приоритеты"
   ]
  },
  {
   "cell_type": "markdown",
   "id": "1067182c",
   "metadata": {},
   "source": [
    "Также как и в математике операции имеют приоритет выполнения:\n",
    "1) Скобки\n",
    "2) Возведение в степень\n",
    "3) Умножение и деление\n",
    "4) Сложение и вычитание"
   ]
  },
  {
   "cell_type": "code",
   "execution_count": null,
   "id": "784a7625",
   "metadata": {},
   "outputs": [],
   "source": [
    "#      3   1 2  4    5   6 \n",
    "a = (c + b**5*3 - 1) / 2 * d"
   ]
  },
  {
   "cell_type": "markdown",
   "id": "15bcc12a",
   "metadata": {},
   "source": [
    "## Сокращенная запись"
   ]
  },
  {
   "cell_type": "markdown",
   "id": "a21ce0f9",
   "metadata": {},
   "source": [
    "Часто необходимо изменять значение переменной, а не перезаписывать её полностью. Для этого используется сокращенная запись:"
   ]
  },
  {
   "cell_type": "code",
   "execution_count": null,
   "id": "49bc9ab0",
   "metadata": {},
   "outputs": [],
   "source": [
    "a += b  # a = a + b \n",
    "a -= b  # a = a - b \n",
    "a *= b  # a = a * b \n",
    "a /= b  # a = a / b\n",
    "a //= b # a = a // b\n",
    "a %= b  # a = a % b"
   ]
  }
 ],
 "metadata": {
  "kernelspec": {
   "display_name": "Python 3 (ipykernel)",
   "language": "python",
   "name": "python3"
  },
  "language_info": {
   "codemirror_mode": {
    "name": "ipython",
    "version": 3
   },
   "file_extension": ".py",
   "mimetype": "text/x-python",
   "name": "python",
   "nbconvert_exporter": "python",
   "pygments_lexer": "ipython3",
   "version": "3.10.2"
  }
 },
 "nbformat": 4,
 "nbformat_minor": 5
}
