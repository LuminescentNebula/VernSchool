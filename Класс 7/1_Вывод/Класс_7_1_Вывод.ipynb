{
 "cells": [
  {
   "cell_type": "markdown",
   "id": "cf702f4d",
   "metadata": {},
   "source": [
    "# Что такое алгоритм?"
   ]
  },
  {
   "cell_type": "markdown",
   "id": "1d0308fd",
   "metadata": {},
   "source": [
    "**Алгоритм** — это точное описание порядка действий, которые должен выполнить исполнитель для решения задачи за конечное время."
   ]
  },
  {
   "cell_type": "markdown",
   "id": "c23e9600",
   "metadata": {},
   "source": [
    "**Исполнитель** – это устройство или одушёвленное существо (человек), способное понять и выполнить команды, составляющие алгоритм."
   ]
  },
  {
   "cell_type": "markdown",
   "id": "f89ecdd5",
   "metadata": {},
   "source": [
    "## Свойства алгоритма"
   ]
  },
  {
   "cell_type": "markdown",
   "id": "90d2fea0",
   "metadata": {},
   "source": [
    "**Дискретность** — алгоритм состоит из отдельных команд, каждая из которых выполняется за конечное время.\n",
    "\n",
    "**Детерминированность** (определённость) — при каждом запуске алгоритма с одними и теми же исходными данными получается один и тот же результат.\n",
    "\n",
    "**Понятность** — алгоритм содержит только команды, входящие в систему команд исполнителя.\n",
    "\n",
    "**Конечность (результативность)** — для корректного набора данных алгоритм должен завершаться через конечное время.\n",
    "\n",
    "**Корректность** — для допустимых исходных данных алгоритм должен приводить к правильному результату.\n",
    "\n",
    "**Массовость** — алгоритм можно использовать для разных исходных данных."
   ]
  },
  {
   "cell_type": "markdown",
   "id": "9e7dda94",
   "metadata": {},
   "source": [
    "## Представление алгоритма"
   ]
  },
  {
   "attachments": {
    "unnamed.gif": {
     "image/gif": "[encoded data removed]"
    }
   },
   "cell_type": "markdown",
   "id": "0416efad",
   "metadata": {},
   "source": [
    "1) В графическом виде (блок-схема)\n",
    "![unnamed.gif](attachment:unnamed.gif)"
   ]
  },
  {
   "cell_type": "markdown",
   "id": "b5b7c143",
   "metadata": {},
   "source": [
    "2) В виде псевдокода. \n",
    "\n",
    "`ввести два числа`  \n",
    "`если знаменатель равен нулю, то вывести \"делить на ноль нельзя\"`  \n",
    "`иначе, вычислить их частное`  \n",
    "`вывести частное на экран`  \n",
    "\n",
    "Псевдокод – алгоритм на русском языке с элементами языка программирования.  \n",
    "Компьютер не может исполнять псевдокод."
   ]
  },
  {
   "cell_type": "markdown",
   "id": "69c5494c",
   "metadata": {},
   "source": [
    "3) В виде программного кода"
   ]
  },
  {
   "cell_type": "markdown",
   "id": "f38961a3",
   "metadata": {},
   "source": [
    "# Простейшая программа"
   ]
  },
  {
   "cell_type": "code",
   "execution_count": 3,
   "id": "21ec749a",
   "metadata": {},
   "outputs": [],
   "source": [
    "# Это пустая программа\n",
    "# Всё что пишется в строке после решетки - комментарий\n",
    "# Комментарии не обрабатываются компьютером.\n",
    "# Они нужны для того, что делать код более понятным"
   ]
  },
  {
   "cell_type": "code",
   "execution_count": null,
   "id": "05029a37",
   "metadata": {
    "scrolled": true
   },
   "outputs": [],
   "source": [
    "\"\"\" \n",
    "Комментарии \n",
    "могут \n",
    "быть \n",
    "многострочными\n",
    "в тройных кавычках\n",
    "\"\"\" "
   ]
  },
  {
   "cell_type": "markdown",
   "id": "045487c2",
   "metadata": {},
   "source": [
    "## Вывод на экран"
   ]
  },
  {
   "cell_type": "markdown",
   "id": "fe20b8e5",
   "metadata": {},
   "source": [
    "Функция `print()` позволяет выводить информацию на экран. Необходимая информация пишется внутри скобок `()`"
   ]
  },
  {
   "cell_type": "code",
   "execution_count": 7,
   "id": "bae1f4e4",
   "metadata": {
    "scrolled": false
   },
   "outputs": [
    {
     "name": "stdout",
     "output_type": "stream",
     "text": [
      "\n"
     ]
    }
   ],
   "source": [
    "print() #Вывод пустой строки"
   ]
  },
  {
   "cell_type": "code",
   "execution_count": 8,
   "id": "c04cce61",
   "metadata": {},
   "outputs": [
    {
     "name": "stdout",
     "output_type": "stream",
     "text": [
      "4\n"
     ]
    }
   ],
   "source": [
    "print(4) #Вывод числа"
   ]
  },
  {
   "cell_type": "code",
   "execution_count": 9,
   "id": "ea48cee0",
   "metadata": {},
   "outputs": [
    {
     "name": "stdout",
     "output_type": "stream",
     "text": [
      "Hello world\n"
     ]
    }
   ],
   "source": [
    "print ( \"Hello world\" ) #Вывод строки из символов"
   ]
  },
  {
   "cell_type": "code",
   "execution_count": 10,
   "id": "a69748f0",
   "metadata": {},
   "outputs": [
    {
     "name": "stdout",
     "output_type": "stream",
     "text": [
      "2+2=?\n",
      "Ответ: 4\n"
     ]
    }
   ],
   "source": [
    "#Пример\n",
    "print ( \"2+2=?\" ) \n",
    "print ( \"Ответ: 4\" ) "
   ]
  },
  {
   "cell_type": "markdown",
   "id": "9fb72e82",
   "metadata": {},
   "source": [
    "## Чувствительность к отступам"
   ]
  },
  {
   "cell_type": "code",
   "execution_count": null,
   "id": "56a7fad8",
   "metadata": {},
   "outputs": [],
   "source": [
    "#Все команды должны начинаться с начала строки\n",
    "print() #правильно\n",
    "    print() #не правильно\n",
    "print() #правильно"
   ]
  },
  {
   "cell_type": "markdown",
   "id": "1369f91c",
   "metadata": {},
   "source": [
    "## Дополнительные символы"
   ]
  },
  {
   "cell_type": "code",
   "execution_count": 13,
   "id": "d4de7429",
   "metadata": {},
   "outputs": [
    {
     "name": "stdout",
     "output_type": "stream",
     "text": [
      "Первая\n",
      "Вторая\n"
     ]
    }
   ],
   "source": [
    "print(\"Первая\\nВторая\") #Символ \"\\n\" добавляет переход на новую строку"
   ]
  },
  {
   "cell_type": "code",
   "execution_count": 14,
   "id": "b7541618",
   "metadata": {},
   "outputs": [
    {
     "name": "stdout",
     "output_type": "stream",
     "text": [
      "До\tПосле\n"
     ]
    }
   ],
   "source": [
    "print(\"До\\tПосле\") #Символ \"\\t\" добавляет табуляционный отступ"
   ]
  },
  {
   "cell_type": "markdown",
   "id": "885b7a43",
   "metadata": {},
   "source": [
    "## Вывод данных через format"
   ]
  },
  {
   "cell_type": "markdown",
   "id": "282130bc",
   "metadata": {},
   "source": [
    "Для вывода данных удобно использовать форматированные строки. Одни и те же данные можно вывести разным способом:"
   ]
  },
  {
   "cell_type": "code",
   "execution_count": null,
   "id": "c2b0efe2",
   "metadata": {},
   "outputs": [
    {
     "name": "stdout",
     "output_type": "stream",
     "text": [
      "1+2=3\n",
      "1+2=3\n",
      "1+2=3\n"
     ]
    }
   ],
   "source": [
    "a=1;b=2;c=3\n",
    "print(a, \"+\", b, \"=\", c, sep = \"\" ) \n",
    "print(\"{}+{}={}\".format(a, b, c))\n",
    "print(f\"{a}+{b}={c}\")"
   ]
  }
 ],
 "metadata": {
  "kernelspec": {
   "display_name": "Python 3 (ipykernel)",
   "language": "python",
   "name": "python3"
  },
  "language_info": {
   "codemirror_mode": {
    "name": "ipython",
    "version": 3
   },
   "file_extension": ".py",
   "mimetype": "text/x-python",
   "name": "python",
   "nbconvert_exporter": "python",
   "pygments_lexer": "ipython3",
   "version": "3.10.2"
  }
 },
 "nbformat": 4,
 "nbformat_minor": 5
}
