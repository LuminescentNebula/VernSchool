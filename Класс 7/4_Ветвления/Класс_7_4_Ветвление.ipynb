{
 "cells": [
  {
   "cell_type": "markdown",
   "id": "91ae9c96",
   "metadata": {},
   "source": [
    "# Ветвление"
   ]
  },
  {
   "attachments": {
    "if.png": {
     "image/png": "[encoded data removed]"
    }
   },
   "cell_type": "markdown",
   "id": "31d25cb3",
   "metadata": {},
   "source": [
    "![if.png](attachment:if.png)"
   ]
  },
  {
   "cell_type": "markdown",
   "id": "1a03e4a1",
   "metadata": {},
   "source": [
    "Для этого используется условный оператор if. Задача условного оператора изменить порядок действий в зависимости от выполнения некоторого условия."
   ]
  },
  {
   "cell_type": "markdown",
   "id": "42770bed",
   "metadata": {},
   "source": [
    "Полная запись условного оператора: "
   ]
  },
  {
   "cell_type": "code",
   "execution_count": 14,
   "id": "a2d1843d",
   "metadata": {},
   "outputs": [
    {
     "name": "stdout",
     "output_type": "stream",
     "text": [
      "20\n"
     ]
    }
   ],
   "source": [
    "a = 10; b = 20\n",
    "if a > b: # Если a больше b, то \n",
    "      c = a # Присваиваем c значение a\n",
    "else: # Иначе,\n",
    "      c = b # Присваиваем c значение b\n",
    "print(c) # Вывод c"
   ]
  },
  {
   "cell_type": "markdown",
   "id": "913c10d6",
   "metadata": {},
   "source": [
    "Неполная форма:"
   ]
  },
  {
   "cell_type": "code",
   "execution_count": 15,
   "id": "c3c5828d",
   "metadata": {},
   "outputs": [
    {
     "name": "stdout",
     "output_type": "stream",
     "text": [
      "20\n"
     ]
    }
   ],
   "source": [
    "a = 10; b = 20\n",
    "c = b\n",
    "if a > b: # Если a больше b, то \n",
    "      c = a # Присваиваем c значение a\n",
    "#Иначе ничего не делаем\n",
    "print(c) # Вывод c"
   ]
  },
  {
   "cell_type": "markdown",
   "id": "87bc10bb",
   "metadata": {},
   "source": [
    "И каскадная проверка условий:"
   ]
  },
  {
   "cell_type": "code",
   "execution_count": 18,
   "id": "19ff617d",
   "metadata": {},
   "outputs": [
    {
     "name": "stdout",
     "output_type": "stream",
     "text": [
      "Меньше восьми\n"
     ]
    }
   ],
   "source": [
    "a = 7\n",
    "if a<2:\n",
    "    print(\"Меньше двух\")\n",
    "elif a<3:\n",
    "    print(\"Меньше трёх\")\n",
    "elif a<4:\n",
    "    print(\"Меньше четырёх\")\n",
    "elif a<5:\n",
    "    print(\"Меньше пяти\")\n",
    "elif a<6:\n",
    "    print(\"Меньше шести\")\n",
    "elif a<7:\n",
    "    print(\"Менеше семи\")\n",
    "elif a<8:\n",
    "    print(\"Меньше восьми\")"
   ]
  },
  {
   "cell_type": "markdown",
   "id": "88cb496f",
   "metadata": {},
   "source": [
    "Вложенные условные операторы:\n",
    "  "
   ]
  },
  {
   "cell_type": "code",
   "execution_count": 17,
   "id": "821e8f79",
   "metadata": {},
   "outputs": [
    {
     "name": "stdout",
     "output_type": "stream",
     "text": [
      "-22\n"
     ]
    }
   ],
   "source": [
    "a = 11; b = 22\n",
    "c = 1\n",
    "if a > b: \n",
    "    if a%10==0:\n",
    "        c = a \n",
    "    else: \n",
    "        c = -a\n",
    "else: \n",
    "    if a%10==0:\n",
    "        c = b \n",
    "    else: \n",
    "        c = -b\n",
    "print(c)"
   ]
  },
  {
   "cell_type": "markdown",
   "id": "cef3d6b2",
   "metadata": {},
   "source": [
    " "
   ]
  },
  {
   "cell_type": "markdown",
   "id": "f1ca2f07",
   "metadata": {},
   "source": [
    "`elif ___` \n",
    "\n",
    "==\n",
    "\n",
    "`else: if ___:`\n",
    "        "
   ]
  },
  {
   "cell_type": "markdown",
   "id": "c8d87d92",
   "metadata": {},
   "source": [
    " "
   ]
  },
  {
   "cell_type": "markdown",
   "id": "dee87a92",
   "metadata": {},
   "source": [
    "С каждым уровнем вложенности добавляется 1 табуляционный отступ от начала строки. Отступ ставиться клавишей Tab на клавиатуре."
   ]
  },
  {
   "cell_type": "markdown",
   "id": "bd0b8048",
   "metadata": {},
   "source": [
    "## Логические операции: "
   ]
  },
  {
   "cell_type": "markdown",
   "id": "9823bf67",
   "metadata": {},
   "source": [
    "`>,<` - больше, меньше  \n",
    "`>=` - больше или равно  \n",
    "`<=` - меньше или равно  \n",
    "`==` - равно  \n",
    "`!=` - не равно  "
   ]
  },
  {
   "cell_type": "code",
   "execution_count": 19,
   "id": "e130bb45",
   "metadata": {
    "scrolled": true
   },
   "outputs": [
    {
     "name": "stdout",
     "output_type": "stream",
     "text": [
      "True\n"
     ]
    }
   ],
   "source": [
    "print(10<20)"
   ]
  },
  {
   "cell_type": "code",
   "execution_count": 20,
   "id": "97f35365",
   "metadata": {
    "scrolled": false
   },
   "outputs": [
    {
     "name": "stdout",
     "output_type": "stream",
     "text": [
      "False\n"
     ]
    }
   ],
   "source": [
    "print(10>20)"
   ]
  },
  {
   "cell_type": "markdown",
   "id": "259a01cf",
   "metadata": {},
   "source": [
    "---"
   ]
  },
  {
   "cell_type": "code",
   "execution_count": 24,
   "id": "458cc630",
   "metadata": {},
   "outputs": [
    {
     "name": "stdout",
     "output_type": "stream",
     "text": [
      "True\n"
     ]
    }
   ],
   "source": [
    "print(10>=10)"
   ]
  },
  {
   "cell_type": "code",
   "execution_count": 25,
   "id": "9c57e2a3",
   "metadata": {
    "scrolled": true
   },
   "outputs": [
    {
     "name": "stdout",
     "output_type": "stream",
     "text": [
      "True\n"
     ]
    }
   ],
   "source": [
    "print(10<=10)"
   ]
  },
  {
   "cell_type": "code",
   "execution_count": 27,
   "id": "6e5ab417",
   "metadata": {},
   "outputs": [
    {
     "name": "stdout",
     "output_type": "stream",
     "text": [
      "True\n"
     ]
    }
   ],
   "source": [
    "print(10>=8)"
   ]
  },
  {
   "cell_type": "code",
   "execution_count": 28,
   "id": "3d7ec9d3",
   "metadata": {},
   "outputs": [
    {
     "name": "stdout",
     "output_type": "stream",
     "text": [
      "False\n"
     ]
    }
   ],
   "source": [
    "print(20<=10)"
   ]
  },
  {
   "cell_type": "markdown",
   "id": "6fd4f518",
   "metadata": {},
   "source": [
    "---"
   ]
  },
  {
   "cell_type": "code",
   "execution_count": 21,
   "id": "dedb660e",
   "metadata": {},
   "outputs": [
    {
     "name": "stdout",
     "output_type": "stream",
     "text": [
      "False\n"
     ]
    }
   ],
   "source": [
    "print(10==20)"
   ]
  },
  {
   "cell_type": "code",
   "execution_count": 23,
   "id": "1963b765",
   "metadata": {
    "scrolled": true
   },
   "outputs": [
    {
     "name": "stdout",
     "output_type": "stream",
     "text": [
      "True\n"
     ]
    }
   ],
   "source": [
    "print(10!=20)"
   ]
  },
  {
   "cell_type": "markdown",
   "id": "179e7861",
   "metadata": {},
   "source": [
    "## Сложные условия"
   ]
  },
  {
   "cell_type": "markdown",
   "id": "72b58549",
   "metadata": {},
   "source": [
    "Условия могут объединяться в сложные условия, которая состоят из нескольких условий."
   ]
  },
  {
   "cell_type": "markdown",
   "id": "c8b687ab",
   "metadata": {},
   "source": [
    "Для этого используются логические операторы `not (НЕ)`,`and (И)` и `or (ИЛИ)`"
   ]
  },
  {
   "cell_type": "code",
   "execution_count": 29,
   "id": "1bb2d0a6",
   "metadata": {},
   "outputs": [
    {
     "name": "stdout",
     "output_type": "stream",
     "text": [
      "a больше трёх И без остатка делится на пять \n"
     ]
    }
   ],
   "source": [
    "a=10;b=15\n",
    "if a>3 and a%5==0:\n",
    "    print(\"a больше трёх И без остатка делится на пять \")"
   ]
  },
  {
   "cell_type": "markdown",
   "id": "7addddab",
   "metadata": {},
   "source": [
    "## Приоритет логических операций:"
   ]
  },
  {
   "cell_type": "markdown",
   "id": "dec0d55d",
   "metadata": {},
   "source": [
    "1) отношения (<, >, <=, >=, ==, !=)\n",
    "2) not («НЕ»)\n",
    "3) and («И»)\n",
    "4) or («ИЛИ»)"
   ]
  }
 ],
 "metadata": {
  "kernelspec": {
   "display_name": "Python 3 (ipykernel)",
   "language": "python",
   "name": "python3"
  },
  "language_info": {
   "codemirror_mode": {
    "name": "ipython",
    "version": 3
   },
   "file_extension": ".py",
   "mimetype": "text/x-python",
   "name": "python",
   "nbconvert_exporter": "python",
   "pygments_lexer": "ipython3",
   "version": "3.10.2"
  }
 },
 "nbformat": 4,
 "nbformat_minor": 5
}
